{
  "nbformat": 4,
  "nbformat_minor": 0,
  "metadata": {
    "colab": {
      "name": "main.ipynb",
      "provenance": [],
      "collapsed_sections": [],
      "mount_file_id": "1lWXUIHraHqv8lFDNOhroiHiFRgsE-eYX",
      "authorship_tag": "ABX9TyO8+pQTNpxBFKKWDr6Bojjp",
      "include_colab_link": true
    },
    "kernelspec": {
      "name": "python3",
      "display_name": "Python 3"
    },
    "accelerator": "GPU"
  },
  "cells": [
    {
      "cell_type": "markdown",
      "metadata": {
        "id": "view-in-github",
        "colab_type": "text"
      },
      "source": [
        "<a href=\"https://colab.research.google.com/github/srasoulzadeh/tensorflow-keras-coreml-mnist-sample/blob/main/main.ipynb\" target=\"_parent\"><img src=\"https://colab.research.google.com/assets/colab-badge.svg\" alt=\"Open In Colab\"/></a>"
      ]
    },
    {
      "cell_type": "code",
      "metadata": {
        "colab": {
          "base_uri": "https://localhost:8080/"
        },
        "id": "3EON4ZfWGYZt",
        "outputId": "211f4b0d-ef95-4d59-a4ff-0f3c3537706e"
      },
      "source": [
        "!pip install coremltools"
      ],
      "execution_count": null,
      "outputs": [
        {
          "output_type": "stream",
          "text": [
            "Collecting coremltools\n",
            "\u001b[?25l  Downloading https://files.pythonhosted.org/packages/32/b0/14c37edf39a9b32c2c9c7aa3e27ece4ef4f5b2dd2c950102661a106520f1/coremltools-4.1-cp37-none-manylinux1_x86_64.whl (3.4MB)\n",
            "\u001b[K     |████████████████████████████████| 3.4MB 7.9MB/s \n",
            "\u001b[?25hRequirement already satisfied: six>=1.10.0 in /usr/local/lib/python3.7/dist-packages (from coremltools) (1.15.0)\n",
            "Collecting attr\n",
            "  Downloading https://files.pythonhosted.org/packages/de/be/ddc7f84d4e087144472a38a373d3e319f51a6faf6e5fc1ae897173675f21/attr-0.3.1.tar.gz\n",
            "Requirement already satisfied: packaging in /usr/local/lib/python3.7/dist-packages (from coremltools) (20.9)\n",
            "Requirement already satisfied: tqdm in /usr/local/lib/python3.7/dist-packages (from coremltools) (4.41.1)\n",
            "Requirement already satisfied: attrs in /usr/local/lib/python3.7/dist-packages (from coremltools) (20.3.0)\n",
            "Requirement already satisfied: numpy<1.20,>=1.14.5 in /usr/local/lib/python3.7/dist-packages (from coremltools) (1.19.5)\n",
            "Requirement already satisfied: protobuf>=3.1.0 in /usr/local/lib/python3.7/dist-packages (from coremltools) (3.12.4)\n",
            "Requirement already satisfied: scipy in /usr/local/lib/python3.7/dist-packages (from coremltools) (1.4.1)\n",
            "Requirement already satisfied: sympy in /usr/local/lib/python3.7/dist-packages (from coremltools) (1.1.1)\n",
            "Requirement already satisfied: pyparsing>=2.0.2 in /usr/local/lib/python3.7/dist-packages (from packaging->coremltools) (2.4.7)\n",
            "Requirement already satisfied: setuptools in /usr/local/lib/python3.7/dist-packages (from protobuf>=3.1.0->coremltools) (53.0.0)\n",
            "Requirement already satisfied: mpmath>=0.19 in /usr/local/lib/python3.7/dist-packages (from sympy->coremltools) (1.2.1)\n",
            "Building wheels for collected packages: attr\n",
            "  Building wheel for attr (setup.py) ... \u001b[?25l\u001b[?25hdone\n",
            "  Created wheel for attr: filename=attr-0.3.1-cp37-none-any.whl size=2458 sha256=47dd1b2f754ba622fc5fae7903f2dd448b0471cf02a309da3b6db064b3032c1c\n",
            "  Stored in directory: /root/.cache/pip/wheels/f0/96/9b/1f8892a707d17095b5a6eab0275da9d39e68e03a26aee2e726\n",
            "Successfully built attr\n",
            "Installing collected packages: attr, coremltools\n",
            "Successfully installed attr-0.3.1 coremltools-4.1\n"
          ],
          "name": "stdout"
        }
      ]
    },
    {
      "cell_type": "code",
      "metadata": {
        "id": "T17BygkX91e2"
      },
      "source": [
        "google_drive_proj_dir = '/content/drive/MyDrive/Vienna University of Technology/mnist-sample'"
      ],
      "execution_count": null,
      "outputs": []
    },
    {
      "cell_type": "code",
      "metadata": {
        "id": "wDAp2r0nB4Wd",
        "colab": {
          "base_uri": "https://localhost:8080/"
        },
        "outputId": "a336ae53-a2fe-4e33-eb6b-ebeffa319094"
      },
      "source": [
        "import coremltools as ct\n",
        "import matplotlib.cm as cm\n",
        "import matplotlib.pyplot as plt\n",
        "%matplotlib inline\n",
        "import numpy as np\n",
        "import os\n",
        "import tensorflow as tf\n",
        "\n",
        "from PIL import Image\n",
        "from tensorflow.keras import backend as K\n",
        "from tensorflow.keras.datasets import mnist\n",
        "from tensorflow.keras.layers import Conv2D, Dense, Dropout, Flatten, Input, MaxPooling2D\n",
        "from tensorflow.keras.models import Sequential\n",
        "from tensorflow.keras.optimizers import Adam\n",
        "from tensorflow.keras.utils import to_categorical"
      ],
      "execution_count": null,
      "outputs": [
        {
          "output_type": "stream",
          "text": [
            "WARNING:root:scikit-learn version 0.22.2.post1 is not supported. Minimum required version: 0.17. Maximum required version: 0.19.2. Disabling scikit-learn conversion API.\n",
            "WARNING:root:TensorFlow version 2.4.1 detected. Last version known to be fully compatible is 2.3.1 .\n",
            "WARNING:root:Keras version 2.4.3 detected. Last version known to be fully compatible of Keras is 2.2.4 .\n"
          ],
          "name": "stderr"
        }
      ]
    },
    {
      "cell_type": "code",
      "metadata": {
        "colab": {
          "base_uri": "https://localhost:8080/"
        },
        "id": "__sTL_FAB5Zm",
        "outputId": "2d779f8f-2cf7-4f2f-aaeb-bfded3b7b230"
      },
      "source": [
        "(X_train, Y_train), (X_test, Y_test) = mnist.load_data()"
      ],
      "execution_count": null,
      "outputs": [
        {
          "output_type": "stream",
          "text": [
            "Downloading data from https://storage.googleapis.com/tensorflow/tf-keras-datasets/mnist.npz\n",
            "11493376/11490434 [==============================] - 0s 0us/step\n"
          ],
          "name": "stdout"
        }
      ]
    },
    {
      "cell_type": "code",
      "metadata": {
        "colab": {
          "base_uri": "https://localhost:8080/"
        },
        "id": "d_u1kvHdCEr5",
        "outputId": "7189a244-df8a-46d2-f2ba-b8bb9e35ce00"
      },
      "source": [
        "print(X_train.shape)\n",
        "print(Y_train.shape)\n",
        "\n",
        "print(X_test.shape)\n",
        "print(Y_test.shape)"
      ],
      "execution_count": null,
      "outputs": [
        {
          "output_type": "stream",
          "text": [
            "(60000, 28, 28)\n",
            "(60000,)\n",
            "(10000, 28, 28)\n",
            "(10000,)\n"
          ],
          "name": "stdout"
        }
      ]
    },
    {
      "cell_type": "code",
      "metadata": {
        "id": "nGhNylwBMULv"
      },
      "source": [
        "X_train = X_train.reshape(X_train.shape[0], 28, 28, 1)\n",
        "X_train = X_train.astype('float32')/255\n",
        "Y_train = to_categorical(Y_train, 10)\n",
        "\n",
        "X_test = X_test.reshape(X_test.shape[0], 28, 28, 1)\n",
        "X_test = X_test.astype('float32')/255\n",
        "Y_test = to_categorical(Y_test, 10)"
      ],
      "execution_count": null,
      "outputs": []
    },
    {
      "cell_type": "code",
      "metadata": {
        "colab": {
          "base_uri": "https://localhost:8080/",
          "height": 210
        },
        "id": "kLHg5Il4M27L",
        "outputId": "d6f8eed3-ef82-4872-f7be-e988f7f5c4e1"
      },
      "source": [
        "fig = plt.figure(figsize=(20, 20))\n",
        "for i in range(6):\n",
        "    ax = fig.add_subplot(1, 6, i+1, \n",
        "                         xticks=[], \n",
        "                         yticks=[])\n",
        "    ax.imshow(np.squeeze(X_train[i], axis=-1), cmap='gray')\n",
        "    ax.set_title(str(Y_train[i]))"
      ],
      "execution_count": null,
      "outputs": [
        {
          "output_type": "display_data",
          "data": {
            "image/png": "[encoded data removed]",
            "text/plain": [
              "<Figure size 1440x1440 with 6 Axes>"
            ]
          },
          "metadata": {
            "tags": []
          }
        }
      ]
    },
    {
      "cell_type": "code",
      "metadata": {
        "id": "irYCblFiNisG"
      },
      "source": [
        "model = Sequential()\n",
        "\n",
        "model.add(Input(shape=(28, 28, 1)))\n",
        "model.add(Conv2D(filters=32, kernel_size=(3, 3), padding='same', activation='relu'))\n",
        "model.add(MaxPooling2D(pool_size=2))\n",
        "model.add(Conv2D(filters=32, kernel_size=2, padding='same', activation='relu'))\n",
        "model.add(MaxPooling2D(pool_size=(2, 2)))\n",
        "model.add(Conv2D(filters=32, kernel_size=2, padding='same', activation='relu'))\n",
        "model.add(MaxPooling2D(pool_size=(2, 2)))\n",
        "# model.add(Dropout(0.2))\n",
        "model.add(Flatten())\n",
        "model.add(Dense(512, activation='relu'))\n",
        "# model.add(Dropout(0.4))\n",
        "model.add(Dense(10, activation='softmax'))"
      ],
      "execution_count": null,
      "outputs": []
    },
    {
      "cell_type": "code",
      "metadata": {
        "colab": {
          "base_uri": "https://localhost:8080/"
        },
        "id": "FIitjeBtOjWb",
        "outputId": "51ace8dd-40af-4eb0-d181-c45f117e5b0c"
      },
      "source": [
        "model.summary()"
      ],
      "execution_count": null,
      "outputs": [
        {
          "output_type": "stream",
          "text": [
            "Model: \"sequential\"\n",
            "_________________________________________________________________\n",
            "Layer (type)                 Output Shape              Param #   \n",
            "=================================================================\n",
            "conv2d (Conv2D)              (None, 28, 28, 32)        320       \n",
            "_________________________________________________________________\n",
            "max_pooling2d (MaxPooling2D) (None, 14, 14, 32)        0         \n",
            "_________________________________________________________________\n",
            "conv2d_1 (Conv2D)            (None, 14, 14, 32)        4128      \n",
            "_________________________________________________________________\n",
            "max_pooling2d_1 (MaxPooling2 (None, 7, 7, 32)          0         \n",
            "_________________________________________________________________\n",
            "conv2d_2 (Conv2D)            (None, 7, 7, 32)          4128      \n",
            "_________________________________________________________________\n",
            "max_pooling2d_2 (MaxPooling2 (None, 3, 3, 32)          0         \n",
            "_________________________________________________________________\n",
            "flatten (Flatten)            (None, 288)               0         \n",
            "_________________________________________________________________\n",
            "dense (Dense)                (None, 512)               147968    \n",
            "_________________________________________________________________\n",
            "dense_1 (Dense)              (None, 10)                5130      \n",
            "=================================================================\n",
            "Total params: 161,674\n",
            "Trainable params: 161,674\n",
            "Non-trainable params: 0\n",
            "_________________________________________________________________\n"
          ],
          "name": "stdout"
        }
      ]
    },
    {
      "cell_type": "code",
      "metadata": {
        "colab": {
          "base_uri": "https://localhost:8080/"
        },
        "id": "mr61Yo0GNzEe",
        "outputId": "62aefb70-691c-4de4-cfbc-f2d0b21c203f"
      },
      "source": [
        "model.compile(loss='categorical_crossentropy', \n",
        "              optimizer=Adam(), \n",
        "              metrics=['accuracy'])\n",
        "\n",
        "model.fit(X_train, Y_train, batch_size=512, epochs=16, verbose=1)\n",
        "\n",
        "score = model.evaluate(X_test, Y_test, verbose=0)\n",
        "print('Test loss:', score[0])\n",
        "print('Test accuracy:', score[1])"
      ],
      "execution_count": null,
      "outputs": [
        {
          "output_type": "stream",
          "text": [
            "Epoch 1/16\n",
            "118/118 [==============================] - 8s 8ms/step - loss: 1.1657 - accuracy: 0.6685\n",
            "Epoch 2/16\n",
            "118/118 [==============================] - 1s 7ms/step - loss: 0.1270 - accuracy: 0.9619\n",
            "Epoch 3/16\n",
            "118/118 [==============================] - 1s 7ms/step - loss: 0.0829 - accuracy: 0.9740\n",
            "Epoch 4/16\n",
            "118/118 [==============================] - 1s 7ms/step - loss: 0.0576 - accuracy: 0.9830\n",
            "Epoch 5/16\n",
            "118/118 [==============================] - 1s 7ms/step - loss: 0.0509 - accuracy: 0.9836\n",
            "Epoch 6/16\n",
            "118/118 [==============================] - 1s 7ms/step - loss: 0.0418 - accuracy: 0.9869\n",
            "Epoch 7/16\n",
            "118/118 [==============================] - 1s 8ms/step - loss: 0.0352 - accuracy: 0.9893\n",
            "Epoch 8/16\n",
            "118/118 [==============================] - 1s 8ms/step - loss: 0.0309 - accuracy: 0.9902\n",
            "Epoch 9/16\n",
            "118/118 [==============================] - 1s 7ms/step - loss: 0.0273 - accuracy: 0.9917\n",
            "Epoch 10/16\n",
            "118/118 [==============================] - 1s 8ms/step - loss: 0.0281 - accuracy: 0.9901\n",
            "Epoch 11/16\n",
            "118/118 [==============================] - 1s 8ms/step - loss: 0.0224 - accuracy: 0.9929\n",
            "Epoch 12/16\n",
            "118/118 [==============================] - 1s 8ms/step - loss: 0.0208 - accuracy: 0.9932\n",
            "Epoch 13/16\n",
            "118/118 [==============================] - 1s 7ms/step - loss: 0.0161 - accuracy: 0.9949\n",
            "Epoch 14/16\n",
            "118/118 [==============================] - 1s 7ms/step - loss: 0.0173 - accuracy: 0.9939\n",
            "Epoch 15/16\n",
            "118/118 [==============================] - 1s 7ms/step - loss: 0.0148 - accuracy: 0.9955\n",
            "Epoch 16/16\n",
            "118/118 [==============================] - 1s 7ms/step - loss: 0.0155 - accuracy: 0.9951\n",
            "Test loss: 0.02640668675303459\n",
            "Test accuracy: 0.991599977016449\n"
          ],
          "name": "stdout"
        }
      ]
    },
    {
      "cell_type": "code",
      "metadata": {
        "colab": {
          "base_uri": "https://localhost:8080/"
        },
        "id": "cB4Ol7QnFSoG",
        "outputId": "461756f4-9382-4971-e6a3-0a99761f24c3"
      },
      "source": [
        "# Define the input type as image\n",
        "image_input = ct.ImageType(shape=(1, 28, 28, 1), scale=1/255)\n",
        "\n",
        "# set class labels\n",
        "classifier_config = ct.ClassifierConfig(\n",
        "    class_labels=['0', '1', '2', '3', '4', '5', '6', '7', '8', '9'])\n",
        "\n",
        "# Convert the model using the Unified Conversion API\n",
        "model = ct.convert(\n",
        "    model, inputs=[image_input], classifier_config=classifier_config)"
      ],
      "execution_count": null,
      "outputs": [
        {
          "output_type": "stream",
          "text": [
            "Running TensorFlow Graph Passes: 100%|██████████| 5/5 [00:00<00:00, 27.75 passes/s]\n",
            "Converting Frontend ==> MIL Ops: 100%|██████████| 32/32 [00:00<00:00, 609.45 ops/s]\n",
            "Running MIL optimization passes: 100%|██████████| 18/18 [00:00<00:00, 355.31 passes/s]\n",
            "Translating MIL ==> MLModel Ops: 100%|██████████| 55/55 [00:00<00:00, 1581.42 ops/s]\n"
          ],
          "name": "stderr"
        }
      ]
    },
    {
      "cell_type": "code",
      "metadata": {
        "id": "Lc87pGV-I6yv"
      },
      "source": [
        "# Save model\n",
        "model.save(os.path.join(google_drive_proj_dir, 'MNISTSample.mlmodel'))"
      ],
      "execution_count": null,
      "outputs": []
    }
  ]
}